{
 "cells": [
  {
   "cell_type": "markdown",
   "metadata": {},
   "source": [
    "# Tutorial-4 running the project as a pipeline"
   ]
  },
  {
   "cell_type": "markdown",
   "metadata": {},
   "source": [
    "### Overview"
   ]
  },
  {
   "cell_type": "markdown",
   "metadata": {},
   "source": [
    "This tutorial demonstrates how to create an automated pipeline for our project. <br>\n",
    "In order to create a pipeline we are using a built-in service in Iguazio called Kubeflow pipeline <br> \n",
    "which is based on the kubeflow pipeline open source. <br>\n",
    "The integration with MLRun enables us to take the functions previously created in our porject and build a pipeline <br>\n",
    "that comprises of those functions. <br>\n"
   ]
  },
  {
   "cell_type": "markdown",
   "metadata": {},
   "source": [
    "## Prerequisites"
   ]
  },
  {
   "cell_type": "markdown",
   "metadata": {},
   "source": [
    "The tutorial is a continuation of [Tutorial 3](tutorial-3.ipynb). Make sure to complete the prior tutorial before running this tutorial."
   ]
  },
  {
   "cell_type": "markdown",
   "metadata": {},
   "source": [
    "### Load Project"
   ]
  },
  {
   "cell_type": "code",
   "execution_count": 28,
   "metadata": {},
   "outputs": [
    {
     "name": "stdout",
     "output_type": "stream",
     "text": [
      "Project path: /User/new-tutorials/conf\n",
      "Project name: getting-started-tutorial-admin\n"
     ]
    }
   ],
   "source": [
    "from os import path, getenv\n",
    "from mlrun import load_project\n",
    "\n",
    "project_path = path.abspath('conf')\n",
    "project = load_project(project_path)\n",
    "\n",
    "print(f'Project path: {project_path}\\nProject name: {project.name}')"
   ]
  },
  {
   "cell_type": "markdown",
   "metadata": {},
   "source": [
    "### View all existing functions in my project"
   ]
  },
  {
   "cell_type": "markdown",
   "metadata": {},
   "source": [
    "run \"get_run_db.list_functions\" to get the list of the functions. use the latest tag <br>\n",
    "in our project we should expect to have the following functions: \n",
    "* get_data - the first function that ingest the iris dataset to the platform\n",
    "* describe - generate statistics on the dataset\n",
    "* train-iris - training function\n",
    "* test-classifier - testing the model\n",
    "* mlrun-model - the serving function "
   ]
  },
  {
   "cell_type": "code",
   "execution_count": 37,
   "metadata": {
    "collapsed": true,
    "jupyter": {
     "outputs_hidden": true
    }
   },
   "outputs": [
    {
     "data": {
      "text/plain": [
       "[{'kind': '',\n",
       "  'metadata': {'name': 'get_data',\n",
       "   'tag': 'latest',\n",
       "   'project': 'getting-started-tutorial-admin',\n",
       "   'categories': [],\n",
       "   'hash': '84b0d47c7f0737782161e42b650af5d6221dcea9',\n",
       "   'updated': '2020-12-24T14:26:48.167498+00:00'},\n",
       "  'spec': {'command': '/tmp/tmpm7tlfcg0.py',\n",
       "   'args': [],\n",
       "   'image': '',\n",
       "   'build': {'commands': []},\n",
       "   'description': ''},\n",
       "  'verbose': False,\n",
       "  'status': {}},\n",
       " {'kind': 'job',\n",
       "  'metadata': {'name': 'describe',\n",
       "   'tag': 'latest',\n",
       "   'hash': '6fc307f7e3afddb38475ba3b9cfae7a97d7b0598',\n",
       "   'project': 'getting-started-tutorial-admin',\n",
       "   'labels': {'author': 'yjb'},\n",
       "   'categories': ['analysis'],\n",
       "   'updated': '2020-12-27T09:00:47.083430+00:00'},\n",
       "  'spec': {'command': '',\n",
       "   'args': [],\n",
       "   'image': 'mlrun/ml-models',\n",
       "   'volumes': [{'flexVolume': {'driver': 'v3io/fuse',\n",
       "      'options': {'accessKey': '442b1585-d0f0-4c6f-b639-6d5a8fa3f292'}},\n",
       "     'name': 'v3io'}],\n",
       "   'volume_mounts': [{'mountPath': '/v3io', 'name': 'v3io', 'subPath': ''},\n",
       "    {'mountPath': '/User', 'name': 'v3io', 'subPath': 'users/admin'}],\n",
       "   'env': [{'name': 'V3IO_API',\n",
       "     'value': 'v3io-webapi.default-tenant.svc:8081'},\n",
       "    {'name': 'V3IO_USERNAME', 'value': 'admin'},\n",
       "    {'name': 'V3IO_ACCESS_KEY',\n",
       "     'value': '442b1585-d0f0-4c6f-b639-6d5a8fa3f292'}],\n",
       "   'default_handler': 'summarize',\n",
       "   'entry_points': {'summarize': {'name': 'summarize',\n",
       "     'doc': 'Summarize a table',\n",
       "     'parameters': [{'name': 'context',\n",
       "       'type': 'MLClientCtx',\n",
       "       'doc': 'the function context',\n",
       "       'default': ''},\n",
       "      {'name': 'table',\n",
       "       'type': 'DataItem',\n",
       "       'doc': 'MLRun input pointing to pandas dataframe (csv/parquet file path)',\n",
       "       'default': ''},\n",
       "      {'name': 'label_column',\n",
       "       'type': 'str',\n",
       "       'doc': 'ground truth column label',\n",
       "       'default': None},\n",
       "      {'name': 'class_labels',\n",
       "       'type': 'List[str]',\n",
       "       'doc': 'label for each class in tables and plots',\n",
       "       'default': []},\n",
       "      {'name': 'plot_hist',\n",
       "       'type': 'bool',\n",
       "       'doc': '(True) set this to False for large tables',\n",
       "       'default': True},\n",
       "      {'name': 'plots_dest',\n",
       "       'type': 'str',\n",
       "       'doc': 'destination folder of summary plots (relative to artifact_path)',\n",
       "       'default': 'plots'},\n",
       "      {'name': 'update_dataset',\n",
       "       'doc': 'when the table is a registered dataset update the charts in-place',\n",
       "       'default': False}],\n",
       "     'outputs': [{'default': ''}],\n",
       "     'lineno': 22}},\n",
       "   'description': 'describe and visualizes dataset stats',\n",
       "   'build': {'functionSourceCode': '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',\n",
       "    'commands': [],\n",
       "    'code_origin': 'https://github.com/Idan707/functions.git#b113aaa99964591e9e2500de0411a6c0029fbe05:describe.ipynb'}},\n",
       "  'verbose': False,\n",
       "  'status': {}},\n",
       " {'kind': 'job',\n",
       "  'metadata': {'name': 'test-classifier',\n",
       "   'tag': 'latest',\n",
       "   'hash': '20853e1445e5fe9e822af8a5d19da62d807379ce',\n",
       "   'project': 'getting-started-tutorial-admin',\n",
       "   'labels': {'author': 'yjb', 'framework': 'sklearn'},\n",
       "   'categories': ['ml', 'test'],\n",
       "   'updated': '2020-12-27T09:00:57.069314+00:00'},\n",
       "  'spec': {'command': '',\n",
       "   'args': [],\n",
       "   'image': 'mlrun/ml-models',\n",
       "   'volumes': [{'flexVolume': {'driver': 'v3io/fuse',\n",
       "      'options': {'accessKey': '442b1585-d0f0-4c6f-b639-6d5a8fa3f292'}},\n",
       "     'name': 'v3io'}],\n",
       "   'volume_mounts': [{'mountPath': '/v3io', 'name': 'v3io', 'subPath': ''},\n",
       "    {'mountPath': '/User', 'name': 'v3io', 'subPath': 'users/admin'}],\n",
       "   'env': [{'name': 'V3IO_API',\n",
       "     'value': 'v3io-webapi.default-tenant.svc:8081'},\n",
       "    {'name': 'V3IO_USERNAME', 'value': 'admin'},\n",
       "    {'name': 'V3IO_ACCESS_KEY',\n",
       "     'value': '442b1585-d0f0-4c6f-b639-6d5a8fa3f292'}],\n",
       "   'default_handler': 'test_classifier',\n",
       "   'entry_points': {'test_classifier': {'name': 'test_classifier',\n",
       "     'doc': 'Test one or more classifier models against held-out dataset\\n\\nUsing held-out test features, evaluates the peformance of the estimated model\\n\\nCan be part of a kubeflow pipeline as a test step that is run post EDA and \\ntraining/validation cycles',\n",
       "     'parameters': [{'name': 'context',\n",
       "       'doc': 'the function context',\n",
       "       'default': ''},\n",
       "      {'name': 'models_path',\n",
       "       'type': 'DataItem',\n",
       "       'doc': 'artifact models representing a file or a folder',\n",
       "       'default': ''},\n",
       "      {'name': 'test_set',\n",
       "       'type': 'DataItem',\n",
       "       'doc': 'test features and labels',\n",
       "       'default': ''},\n",
       "      {'name': 'label_column',\n",
       "       'type': 'str',\n",
       "       'doc': 'column name for ground truth labels',\n",
       "       'default': ''},\n",
       "      {'name': 'score_method',\n",
       "       'type': 'str',\n",
       "       'doc': 'for multiclass classification',\n",
       "       'default': 'micro'},\n",
       "      {'name': 'plots_dest',\n",
       "       'type': 'str',\n",
       "       'doc': 'dir for test plots',\n",
       "       'default': ''},\n",
       "      {'name': 'model_evaluator',\n",
       "       'doc': 'NOT IMPLEMENTED: specific method to generate eval, passed in as string or available in this folder',\n",
       "       'default': None},\n",
       "      {'name': 'default_model', 'type': 'str', 'default': 'model.pkl'},\n",
       "      {'name': 'predictions_column',\n",
       "       'type': 'str',\n",
       "       'doc': 'column name for the predictions column on the resulted artifact',\n",
       "       'default': 'yscore'},\n",
       "      {'name': 'model_update',\n",
       "       'doc': '(True) update model, when running as stand alone no need in update',\n",
       "       'default': True}],\n",
       "     'outputs': [{'default': ''}],\n",
       "     'lineno': 16}},\n",
       "   'description': 'test a classifier using held-out or new data',\n",
       "   'build': {'functionSourceCode': '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',\n",
       "    'commands': [],\n",
       "    'code_origin': 'https://github.com/Idan707/functions.git#877277c6378d0bd61e1938e6c6c9bb9e51810fcb:test_classifier.ipynb'}},\n",
       "  'verbose': False,\n",
       "  'status': {}},\n",
       " {'kind': 'serving',\n",
       "  'metadata': {'name': 'mlrun-model',\n",
       "   'tag': 'latest',\n",
       "   'project': 'getting-started-tutorial-admin',\n",
       "   'hash': 'adcbcd2a28b430ac5db843d78410aa04f2be645d',\n",
       "   'updated': '2020-12-27T15:31:12.071861+00:00'},\n",
       "  'spec': {'command': 'http://default-tenant.app.product-new.iguazio-cd2.com:30845',\n",
       "   'args': [],\n",
       "   'image': 'mlrun/mlrun',\n",
       "   'entry_points': {'load': {'name': 'load',\n",
       "     'doc': 'load and initialize the model and/or other elements',\n",
       "     'parameters': [{'name': 'self', 'default': ''}],\n",
       "     'outputs': [{'default': ''}],\n",
       "     'lineno': 9},\n",
       "    'predict': {'name': 'predict',\n",
       "     'doc': 'Generate model predictions from sample.',\n",
       "     'parameters': [{'name': 'self', 'default': ''},\n",
       "      {'name': 'body', 'type': 'dict', 'default': ''}],\n",
       "     'outputs': [{'default': '', 'type': 'List'}],\n",
       "     'lineno': 14},\n",
       "    'init_context': {'name': 'init_context',\n",
       "     'doc': '',\n",
       "     'parameters': [{'name': 'context', 'default': ''}],\n",
       "     'outputs': [{'default': ''}],\n",
       "     'lineno': 22},\n",
       "    'handler': {'name': 'handler',\n",
       "     'doc': '',\n",
       "     'parameters': [{'name': 'context', 'default': ''},\n",
       "      {'name': 'event', 'default': ''}],\n",
       "     'outputs': [{'default': ''}],\n",
       "     'lineno': 25}},\n",
       "   'description': '',\n",
       "   'min_replicas': 1,\n",
       "   'max_replicas': 4,\n",
       "   'volumes': [{'flexVolume': {'driver': 'v3io/fuse',\n",
       "      'options': {'accessKey': '442b1585-d0f0-4c6f-b639-6d5a8fa3f292',\n",
       "       'container': 'projects',\n",
       "       'subPath': ''}},\n",
       "     'name': 'v3io'}],\n",
       "   'volume_mounts': [{'mountPath': '/v3io/projects',\n",
       "     'name': 'v3io',\n",
       "     'subPath': ''}],\n",
       "   'env': [{'name': 'V3IO_API',\n",
       "     'value': 'v3io-webapi.default-tenant.svc:8081'},\n",
       "    {'name': 'V3IO_USERNAME', 'value': 'admin'},\n",
       "    {'name': 'V3IO_ACCESS_KEY',\n",
       "     'value': '442b1585-d0f0-4c6f-b639-6d5a8fa3f292'}],\n",
       "   'base_spec': {'apiVersion': 'nuclio.io/v1',\n",
       "    'kind': 'Function',\n",
       "    'metadata': {'annotations': {'nuclio.io/generated_by': 'function generated from 27-12-2020 by admin'},\n",
       "     'labels': {},\n",
       "     'name': 'mlrun-model'},\n",
       "    'spec': {'build': {'commands': [],\n",
       "      'functionSourceCode': 'IyBHZW5lcmF0ZWQgYnkgbnVjbGlvLmV4cG9ydC5OdWNsaW9FeHBvcnRlcgoKZnJvbSBjbG91ZHBpY2tsZSBpbXBvcnQgbG9hZAppbXBvcnQgbnVtcHkgYXMgbnAKZnJvbSB0eXBpbmcgaW1wb3J0IExpc3QKaW1wb3J0IG1scnVuCgpjbGFzcyBDbGFzc2lmaWVyTW9kZWwobWxydW4uc2VydmluZy5WMk1vZGVsU2VydmVyKToKICAgIGRlZiBsb2FkKHNlbGYpOgogICAgICAgICIiImxvYWQgYW5kIGluaXRpYWxpemUgdGhlIG1vZGVsIGFuZC9vciBvdGhlciBlbGVtZW50cyIiIgogICAgICAgIG1vZGVsX2ZpbGUsIGV4dHJhX2RhdGEgPSBzZWxmLmdldF9tb2RlbCgnLnBrbCcpCiAgICAgICAgc2VsZi5tb2RlbCA9IGxvYWQob3Blbihtb2RlbF9maWxlLCAncmInKSkKCiAgICBkZWYgcHJlZGljdChzZWxmLCBib2R5OiBkaWN0KSAtPiBMaXN0OgogICAgICAgICIiIkdlbmVyYXRlIG1vZGVsIHByZWRpY3Rpb25zIGZyb20gc2FtcGxlLiIiIgogICAgICAgIGZlYXRzID0gbnAuYXNhcnJheShib2R5WydpbnB1dHMnXSkKICAgICAgICByZXN1bHQ6IG5wLm5kYXJyYXkgPSBzZWxmLm1vZGVsLnByZWRpY3QoZmVhdHMpCiAgICAgICAgcmV0dXJuIHJlc3VsdC50b2xpc3QoKQoKCmZyb20gbWxydW4ucnVudGltZXMgaW1wb3J0IG51Y2xpb19pbml0X2hvb2sKZGVmIGluaXRfY29udGV4dChjb250ZXh0KToKICAgIG51Y2xpb19pbml0X2hvb2soY29udGV4dCwgZ2xvYmFscygpLCAnc2VydmluZ192MicpCgpkZWYgaGFuZGxlcihjb250ZXh0LCBldmVudCk6CiAgICByZXR1cm4gY29udGV4dC5tbHJ1bl9oYW5kbGVyKGNvbnRleHQsIGV2ZW50KQo=',\n",
       "      'noBaseImagesPull': True},\n",
       "     'env': [],\n",
       "     'handler': 'Tutorial-3:handler',\n",
       "     'runtime': 'python:3.6',\n",
       "     'volumes': []}},\n",
       "   'source': '',\n",
       "   'function_kind': 'serving_v2',\n",
       "   'graph': {'kind': 'router',\n",
       "    'routes': {'my_model': {'kind': 'task',\n",
       "      'class_name': 'ClassifierModel',\n",
       "      'class_args': {'model_path': 'store://getting-started-tutorial-admin/train-iris-train_iris_model#b2ec6c1ed096494b88318f01de03f508'}}}},\n",
       "   'default_class': 'ClassifierModel'},\n",
       "  'status': {'state': 'ready',\n",
       "   'nuclio_name': 'getting-started-tutorial-admin-mlrun-model',\n",
       "   'address': 'default-tenant.app.product-new.iguazio-cd2.com:30845'},\n",
       "  'verbose': False},\n",
       " {'kind': 'job',\n",
       "  'metadata': {'name': 'get-data',\n",
       "   'tag': 'latest',\n",
       "   'hash': 'b328cc183d17c2d0a65e4420e2e169b2ddc6eae3',\n",
       "   'project': 'getting-started-tutorial-admin',\n",
       "   'categories': [],\n",
       "   'updated': '2020-12-27T20:22:56.744581+00:00'},\n",
       "  'spec': {'command': '',\n",
       "   'args': [],\n",
       "   'image': 'mlrun/ml-models',\n",
       "   'volumes': [{'flexVolume': {'driver': 'v3io/fuse',\n",
       "      'options': {'accessKey': '442b1585-d0f0-4c6f-b639-6d5a8fa3f292'}},\n",
       "     'name': 'v3io'}],\n",
       "   'volume_mounts': [{'mountPath': '/v3io', 'name': 'v3io', 'subPath': ''},\n",
       "    {'mountPath': '/User', 'name': 'v3io', 'subPath': 'users/admin'}],\n",
       "   'env': [{'name': 'V3IO_API',\n",
       "     'value': 'v3io-webapi.default-tenant.svc:8081'},\n",
       "    {'name': 'V3IO_USERNAME', 'value': 'admin'},\n",
       "    {'name': 'V3IO_ACCESS_KEY',\n",
       "     'value': '442b1585-d0f0-4c6f-b639-6d5a8fa3f292'}],\n",
       "   'default_handler': '',\n",
       "   'entry_points': {'get_data': {'name': 'get_data',\n",
       "     'doc': '',\n",
       "     'parameters': [{'name': 'context', 'default': ''},\n",
       "      {'name': 'source_url', 'default': ''},\n",
       "      {'name': 'format', 'default': 'csv'}],\n",
       "     'outputs': [{'default': ''}],\n",
       "     'lineno': 3}},\n",
       "   'description': '',\n",
       "   'build': {'functionSourceCode': 'IyBHZW5lcmF0ZWQgYnkgbnVjbGlvLmV4cG9ydC5OdWNsaW9FeHBvcnRlcgoKZGVmIGdldF9kYXRhKGNvbnRleHQsIHNvdXJjZV91cmwsIGZvcm1hdD0nY3N2Jyk6CgogICAgZGYgPSBzb3VyY2VfdXJsLmFzX2RmKCkKCiAgICBjb250ZXh0LmxvZ19kYXRhc2V0KCdzb3VyY2VfZGF0YScsIGRmPWRmLCBmb3JtYXQ9Zm9ybWF0LAogICAgICAgICAgICAgICAgICAgICAgICBpbmRleD1GYWxzZSkKCg==',\n",
       "    'commands': []}},\n",
       "  'verbose': False,\n",
       "  'status': {}},\n",
       " {'kind': 'job',\n",
       "  'metadata': {'name': 'train-iris',\n",
       "   'tag': 'latest',\n",
       "   'hash': 'd69454489ae775e1393c6ac8a38c3e172e9d08af',\n",
       "   'project': 'getting-started-tutorial-admin',\n",
       "   'categories': [],\n",
       "   'updated': '2020-12-27T20:23:07.923194+00:00'},\n",
       "  'spec': {'command': '',\n",
       "   'args': [],\n",
       "   'image': 'mlrun/ml-models',\n",
       "   'volumes': [{'flexVolume': {'driver': 'v3io/fuse',\n",
       "      'options': {'accessKey': '442b1585-d0f0-4c6f-b639-6d5a8fa3f292'}},\n",
       "     'name': 'v3io'}],\n",
       "   'volume_mounts': [{'mountPath': '/v3io', 'name': 'v3io', 'subPath': ''},\n",
       "    {'mountPath': '/User', 'name': 'v3io', 'subPath': 'users/admin'}],\n",
       "   'env': [{'name': 'V3IO_API',\n",
       "     'value': 'v3io-webapi.default-tenant.svc:8081'},\n",
       "    {'name': 'V3IO_USERNAME', 'value': 'admin'},\n",
       "    {'name': 'V3IO_ACCESS_KEY',\n",
       "     'value': '442b1585-d0f0-4c6f-b639-6d5a8fa3f292'}],\n",
       "   'default_handler': 'train_iris',\n",
       "   'entry_points': {'train_iris': {'name': 'train_iris',\n",
       "     'doc': '',\n",
       "     'parameters': [{'name': 'context', 'type': 'MLClientCtx', 'default': ''},\n",
       "      {'name': 'dataset', 'type': 'DataItem', 'default': ''},\n",
       "      {'name': 'label_column', 'type': 'str', 'default': 'labels'}],\n",
       "     'outputs': [{'default': ''}],\n",
       "     'lineno': 13}},\n",
       "   'description': '',\n",
       "   'build': {'functionSourceCode': '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',\n",
       "    'commands': []}},\n",
       "  'verbose': False,\n",
       "  'status': {}}]"
      ]
     },
     "execution_count": 37,
     "metadata": {},
     "output_type": "execute_result"
    }
   ],
   "source": [
    "from mlrun import get_run_db\n",
    "get_run_db().list_functions(project='getting-started-tutorial-admin', tag='latest')"
   ]
  },
  {
   "cell_type": "markdown",
   "metadata": {},
   "source": [
    "You're now ready to create a full ML pipeline.\n",
    "This is done by using [Kubeflow Pipelines](https://www.kubeflow.org/docs/pipelines/overview/pipelines-overview/), which is integrated into the Iguazio Data Science Platform.\n",
    "Kubeflow Pipelines is an open-source framework for building and deploying portable, scalable machine-learning workflows based on Docker containers.\n",
    "MLRun leverages this framework to take your existing code and deploy it as steps in the pipeline."
   ]
  },
  {
   "cell_type": "markdown",
   "metadata": {},
   "source": [
    "<a id=\"gs-pipeline-workflow-define-n-save\"></a>"
   ]
  },
  {
   "cell_type": "markdown",
   "metadata": {},
   "source": [
    "### Define and Save a Pipeline Workflow"
   ]
  },
  {
   "cell_type": "markdown",
   "metadata": {},
   "source": [
    "A pipeline is created by running an MLRun **\"workflow\"**.\n",
    "The following code defines a workflow and writes it to a file in your project conf directory (file name is workflow.py).\n",
    "The workflow describes a directed acyclic graph (DAG) for execution using Kubeflow Pipelines, and depicts the connections between the functions and the data as part of an end-to-end pipeline.\n",
    "The workflow file has two parts &mdash; initialization of the function objects, and definition of a pipeline DSL (domain-specific language) for connecting the function inputs and outputs.\n",
    "Examine the code to see how functions objects are initialized and used (by name) within the workflow.\n",
    "\n",
    "The defined pipeline includes the following steps:\n",
    "\n",
    "- Ingest the Iris flower data set (`ingest`).\n",
    "- Analyze the data set (`describe`).\n",
    "- Train and test the model with hyperparameters (`train`).\n",
    "- Deploy the model as a real-time serverless function (`deploy`).\n",
    "- Test the serverless serving-model function with a test data set by using REST API calls (`Tester`).\n",
    "\n",
    "> **Note**: A pipeline can also include continuous build integration and deployment (CI/CD) steps, such as building container images and deploying models."
   ]
  },
  {
   "cell_type": "code",
   "execution_count": 42,
   "metadata": {},
   "outputs": [
    {
     "name": "stdout",
     "output_type": "stream",
     "text": [
      "Overwriting /User/new-tutorials/conf/workflow.py\n"
     ]
    }
   ],
   "source": [
    "%%writefile {path.join(project_path, 'workflow.py')}\n",
    "\n",
    "from kfp import dsl\n",
    "from mlrun import mount_v3io\n",
    "import mlrun\n",
    "from mlrun.platforms import mount_v3io_extended\n",
    "\n",
    "\n",
    "funcs = {}\n",
    "DATASET = 'source_data'\n",
    "LABELS = \"training-iris\"\n",
    "\n",
    "# Configure function resources and local settings\n",
    "def init_functions(functions: dict, project=None, secrets=None):\n",
    "    for f in functions.values():\n",
    "        f.apply(mount_v3io_extended())\n",
    "\n",
    "# Create a Kubeflow Pipelines pipeline\n",
    "@dsl.pipeline(\n",
    "    name=\"Getting-started-tutorial\",\n",
    "    description=\"This tutorial is designed to demonstrate some of the main \"\n",
    "                \"capabilities of the Iguazio Data Science Platform.\\n\"\n",
    "                \"The tutorial uses the Iris flower data set.\"\n",
    ")\n",
    "def kfpipeline(source_url='https://s3.wasabisys.com/iguazio/data/iris/iris_dataset.csv'):\n",
    "\n",
    "    # Ingest the data set\n",
    "    ingest = funcs['get-data'].as_step(\n",
    "        name=\"get-data\",\n",
    "        handler='get_data',\n",
    "        inputs={'source_url': source_url},\n",
    "        params={'format': 'csv'},\n",
    "        outputs=[DATASET])\n",
    "    \n",
    "    # Train a model   \n",
    "    train = funcs[\"train-iris\"].as_step(\n",
    "        name=\"train\",\n",
    "        params={\"label_column\": LABELS},\n",
    "        inputs={\"dataset\": ingest.outputs[DATASET]})"
   ]
  },
  {
   "cell_type": "markdown",
   "metadata": {},
   "source": [
    "#### Register the Workflow"
   ]
  },
  {
   "cell_type": "markdown",
   "metadata": {},
   "source": [
    "Use the `set_workflow` MLRun project method to register your workflow with MLRun.\n",
    "The following code sets the `name` parameter to the selected workflow name (\"main\") and the `code` parameter to the name of the workflow file that is found in your project directory (**workflow.py**)."
   ]
  },
  {
   "cell_type": "code",
   "execution_count": 43,
   "metadata": {},
   "outputs": [],
   "source": [
    "# Register the workflow file as \"main\"\n",
    "project.set_workflow('main', 'workflow.py')"
   ]
  },
  {
   "cell_type": "markdown",
   "metadata": {},
   "source": [
    "<a id=\"gs-save-project\"></a>"
   ]
  },
  {
   "cell_type": "markdown",
   "metadata": {},
   "source": [
    "### Save Your Project Configuration"
   ]
  },
  {
   "cell_type": "markdown",
   "metadata": {},
   "source": [
    "Use the `save` MLRun project method to save your project definitions to a project-configuration file in your project directory (**/User/getting-started-tutorial/conf**).\n",
    "The default name of the project file is **project.yaml**, but you can optionally change it by setting the `filepath` parameter of the `save` method.\n",
    "\n",
    "> **Note:** It's recommended that you commit your project-configuration file and any future changes to this file to a Git repository."
   ]
  },
  {
   "cell_type": "code",
   "execution_count": 44,
   "metadata": {},
   "outputs": [],
   "source": [
    "project.save()"
   ]
  },
  {
   "cell_type": "markdown",
   "metadata": {},
   "source": [
    "Use the `run` MLRun project method to execute your workflow pipeline with Kubeflow Pipelines.\n",
    "The tutorial code sets the following method parameters; (for the full parameters list, see the MLRun documentation or embedded help):\n",
    "\n",
    "- **`name`** &mdash; the workflow name (in this case, \"main\" &mdash; see the previous step).\n",
    "- **`arguments`** &mdash; A dictionary of Kubeflow Pipelines arguments (parameters).\n",
    "  The tutorial code sets this parameter to an empty arguments list (`{}`), but you can edit the code to add arguments.\n",
    "- **`artifact_path`** &mdash; a path or URL that identifies a location for storing the workflow artifacts.\n",
    "  You can use `{{workflow.uid}}` in the path to signify the ID of the current workflow run iteration.\n",
    "  The tutorial code sets the artifacts path to a **&lt;worker ID&gt;** directory (`{{workflow.uid}}`) in a **pipeline** directory within the current tutorial directory (**/User/getting-started-tutorial/pipeline/&lt;worker ID&gt;**).\n",
    "- **`dirty`** &mdash; set to `True` to allow running the workflow also when the project's Git repository is dirty (i.e., contains uncommitted changes).\n",
    "  (When the notebook that contains the execution code is in the same Git directory as the executed workflow, the directory will always be dirty during the execution.)\n",
    "\n",
    "The `run` method returns the ID of the executed workflow, which the code stores in a `run_id` variable.\n",
    "You can use this ID to track the progress or your workflow, as demonstrated in the following sections.\n",
    "\n",
    "> **Note**: You can also run the workflow from a command-line shell by using the `mlrun` CLI.\n",
    "> The following CLI command defines a similar execution logic as that of the `run` call in the tutorial:\n",
    "> ```\n",
    "> mlrun project /User/getting-started-tutorial/conf -r main -p \"$V3IO_HOME_URL/getting-started-tutorial/pipeline/{{workflow.uid}}/\"\n",
    "> ```"
   ]
  },
  {
   "cell_type": "code",
   "execution_count": 45,
   "metadata": {},
   "outputs": [
    {
     "data": {
      "text/html": [
       "Experiment link <a href=\"https://dashboard.default-tenant.app.product-new.iguazio-cd2.com/pipelines/#/experiments/details/317907c0-743e-49fa-90f5-c3319099aef9\" target=\"_blank\" >here</a>"
      ],
      "text/plain": [
       "<IPython.core.display.HTML object>"
      ]
     },
     "metadata": {},
     "output_type": "display_data"
    },
    {
     "data": {
      "text/html": [
       "Run link <a href=\"https://dashboard.default-tenant.app.product-new.iguazio-cd2.com/pipelines/#/runs/details/9b08da1f-bdb4-4a43-bcd3-9b6b6ea2f619\" target=\"_blank\" >here</a>"
      ],
      "text/plain": [
       "<IPython.core.display.HTML object>"
      ]
     },
     "metadata": {},
     "output_type": "display_data"
    },
    {
     "name": "stdout",
     "output_type": "stream",
     "text": [
      "> 2020-12-27 20:38:33,101 [info] Pipeline run id=9b08da1f-bdb4-4a43-bcd3-9b6b6ea2f619, check UI or DB for progress\n",
      "> 2020-12-27 20:38:33,102 [info] waiting for pipeline run completion\n"
     ]
    },
    {
     "ename": "RuntimeError",
     "evalue": "run status Failed not in expected statuses",
     "output_type": "error",
     "traceback": [
      "\u001b[0;31m---------------------------------------------------------------------------\u001b[0m",
      "\u001b[0;31mRuntimeError\u001b[0m                              Traceback (most recent call last)",
      "\u001b[0;32m<ipython-input-45-267fba76924c>\u001b[0m in \u001b[0;36m<module>\u001b[0;34m\u001b[0m\n\u001b[1;32m      4\u001b[0m     \u001b[0martifact_path\u001b[0m\u001b[0;34m=\u001b[0m\u001b[0mpath\u001b[0m\u001b[0;34m.\u001b[0m\u001b[0mabspath\u001b[0m\u001b[0;34m(\u001b[0m\u001b[0mpath\u001b[0m\u001b[0;34m.\u001b[0m\u001b[0mjoin\u001b[0m\u001b[0;34m(\u001b[0m\u001b[0;34m'pipeline'\u001b[0m\u001b[0;34m,\u001b[0m\u001b[0;34m'{{workflow.uid}}'\u001b[0m\u001b[0;34m)\u001b[0m\u001b[0;34m)\u001b[0m\u001b[0;34m,\u001b[0m\u001b[0;34m\u001b[0m\u001b[0;34m\u001b[0m\u001b[0m\n\u001b[1;32m      5\u001b[0m     \u001b[0mdirty\u001b[0m\u001b[0;34m=\u001b[0m\u001b[0;32mTrue\u001b[0m\u001b[0;34m,\u001b[0m\u001b[0;34m\u001b[0m\u001b[0;34m\u001b[0m\u001b[0m\n\u001b[0;32m----> 6\u001b[0;31m     watch=True)\n\u001b[0m",
      "\u001b[0;32m~/.pythonlibs/jupyter/lib/python3.7/site-packages/mlrun/projects/project.py\u001b[0m in \u001b[0;36mrun\u001b[0;34m(self, name, workflow_path, arguments, artifact_path, namespace, sync, watch, dirty, ttl)\u001b[0m\n\u001b[1;32m    678\u001b[0m             \u001b[0mremove\u001b[0m\u001b[0;34m(\u001b[0m\u001b[0mworkflow_path\u001b[0m\u001b[0;34m)\u001b[0m\u001b[0;34m\u001b[0m\u001b[0;34m\u001b[0m\u001b[0m\n\u001b[1;32m    679\u001b[0m         \u001b[0;32mif\u001b[0m \u001b[0mwatch\u001b[0m\u001b[0;34m:\u001b[0m\u001b[0;34m\u001b[0m\u001b[0;34m\u001b[0m\u001b[0m\n\u001b[0;32m--> 680\u001b[0;31m             \u001b[0mself\u001b[0m\u001b[0;34m.\u001b[0m\u001b[0mget_run_status\u001b[0m\u001b[0;34m(\u001b[0m\u001b[0mrun\u001b[0m\u001b[0;34m,\u001b[0m \u001b[0mnotifiers\u001b[0m\u001b[0;34m=\u001b[0m\u001b[0mRunNotifications\u001b[0m\u001b[0;34m(\u001b[0m\u001b[0mwith_slack\u001b[0m\u001b[0;34m=\u001b[0m\u001b[0;32mTrue\u001b[0m\u001b[0;34m)\u001b[0m\u001b[0;34m)\u001b[0m\u001b[0;34m\u001b[0m\u001b[0;34m\u001b[0m\u001b[0m\n\u001b[0m\u001b[1;32m    681\u001b[0m         \u001b[0;32mreturn\u001b[0m \u001b[0mrun\u001b[0m\u001b[0;34m\u001b[0m\u001b[0;34m\u001b[0m\u001b[0m\n\u001b[1;32m    682\u001b[0m \u001b[0;34m\u001b[0m\u001b[0m\n",
      "\u001b[0;32m~/.pythonlibs/jupyter/lib/python3.7/site-packages/mlrun/projects/project.py\u001b[0m in \u001b[0;36mget_run_status\u001b[0;34m(self, workflow_id, timeout, expected_statuses, notifiers)\u001b[0m\n\u001b[1;32m    741\u001b[0m             \u001b[0mlogger\u001b[0m\u001b[0;34m.\u001b[0m\u001b[0minfo\u001b[0m\u001b[0;34m(\u001b[0m\u001b[0;34m\"waiting for pipeline run completion\"\u001b[0m\u001b[0;34m)\u001b[0m\u001b[0;34m\u001b[0m\u001b[0;34m\u001b[0m\u001b[0m\n\u001b[1;32m    742\u001b[0m             run_info = wait_for_pipeline_completion(\n\u001b[0;32m--> 743\u001b[0;31m                 \u001b[0mworkflow_id\u001b[0m\u001b[0;34m,\u001b[0m \u001b[0mtimeout\u001b[0m\u001b[0;34m=\u001b[0m\u001b[0mtimeout\u001b[0m\u001b[0;34m,\u001b[0m \u001b[0mexpected_statuses\u001b[0m\u001b[0;34m=\u001b[0m\u001b[0mexpected_statuses\u001b[0m\u001b[0;34m\u001b[0m\u001b[0;34m\u001b[0m\u001b[0m\n\u001b[0m\u001b[1;32m    744\u001b[0m             )\n\u001b[1;32m    745\u001b[0m             \u001b[0;32mif\u001b[0m \u001b[0mrun_info\u001b[0m\u001b[0;34m:\u001b[0m\u001b[0;34m\u001b[0m\u001b[0;34m\u001b[0m\u001b[0m\n",
      "\u001b[0;32m~/.pythonlibs/jupyter/lib/python3.7/site-packages/mlrun/run.py\u001b[0m in \u001b[0;36mwait_for_pipeline_completion\u001b[0;34m(run_id, timeout, expected_statuses, namespace)\u001b[0m\n\u001b[1;32m    860\u001b[0m     \u001b[0;32mif\u001b[0m \u001b[0mexpected_statuses\u001b[0m\u001b[0;34m:\u001b[0m\u001b[0;34m\u001b[0m\u001b[0;34m\u001b[0m\u001b[0m\n\u001b[1;32m    861\u001b[0m         \u001b[0;32mif\u001b[0m \u001b[0mstatus\u001b[0m \u001b[0;32mnot\u001b[0m \u001b[0;32min\u001b[0m \u001b[0mexpected_statuses\u001b[0m\u001b[0;34m:\u001b[0m\u001b[0;34m\u001b[0m\u001b[0;34m\u001b[0m\u001b[0m\n\u001b[0;32m--> 862\u001b[0;31m             \u001b[0;32mraise\u001b[0m \u001b[0mRuntimeError\u001b[0m\u001b[0;34m(\u001b[0m\u001b[0;34mf\"run status {status} not in expected statuses\"\u001b[0m\u001b[0;34m)\u001b[0m\u001b[0;34m\u001b[0m\u001b[0;34m\u001b[0m\u001b[0m\n\u001b[0m\u001b[1;32m    863\u001b[0m \u001b[0;34m\u001b[0m\u001b[0m\n\u001b[1;32m    864\u001b[0m     logger.debug(\n",
      "\u001b[0;31mRuntimeError\u001b[0m: run status Failed not in expected statuses"
     ]
    }
   ],
   "source": [
    "run_id = project.run(\n",
    "    'main',\n",
    "    arguments={}, \n",
    "    artifact_path=path.abspath(path.join('pipeline','{{workflow.uid}}')), \n",
    "    dirty=True,\n",
    "    watch=True)"
   ]
  },
  {
   "cell_type": "markdown",
   "metadata": {},
   "source": [
    "<a id='gs-pipeline-workflow-run'></a>"
   ]
  },
  {
   "cell_type": "code",
   "execution_count": null,
   "metadata": {},
   "outputs": [],
   "source": []
  }
 ],
 "metadata": {
  "kernelspec": {
   "display_name": "Python 3",
   "language": "python",
   "name": "python3"
  },
  "language_info": {
   "codemirror_mode": {
    "name": "ipython",
    "version": 3
   },
   "file_extension": ".py",
   "mimetype": "text/x-python",
   "name": "python",
   "nbconvert_exporter": "python",
   "pygments_lexer": "ipython3",
   "version": "3.7.6"
  }
 },
 "nbformat": 4,
 "nbformat_minor": 4
}
